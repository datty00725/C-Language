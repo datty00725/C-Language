{
 "cells": [
  {
   "cell_type": "markdown",
   "metadata": {
    "id": "mwf78x5SoVFo"
   },
   "source": [
    "# 1. 経済発注量"
   ]
  },
  {
   "cell_type": "markdown",
   "metadata": {
    "id": "75yyQPQxn9BY"
   },
   "source": [
    "## 保管費，発注費，在庫管理費用の関係"
   ]
  },
  {
   "cell_type": "code",
   "execution_count": null,
   "metadata": {
    "id": "muQH1ycsg8kC"
   },
   "outputs": [
    {
     "ename": "",
     "evalue": "",
     "output_type": "error",
     "traceback": [
      "\u001b[1;31mFailed to start the Kernel. \n",
      "Canceled. \n",
      "View Jupyter <a href='command:jupyter.viewOutput'>log</a> for further details."
     ]
    }
   ],
   "source": [
    "import matplotlib.pyplot as plt\n",
    "import numpy as np"
   ]
  },
  {
   "cell_type": "code",
   "execution_count": 1,
   "metadata": {
    "id": "mHSGytelhH8S"
   },
   "outputs": [],
   "source": [
    "# 保管費\n",
    "def U(x, a):\n",
    "  return a * x / 2"
   ]
  },
  {
   "cell_type": "code",
   "execution_count": null,
   "metadata": {
    "id": "iBSfJzH_hJKG"
   },
   "outputs": [],
   "source": [
    "# 発注費\n",
    "def V(x, b, r):\n",
    "  return b * r / x"
   ]
  },
  {
   "cell_type": "code",
   "execution_count": null,
   "metadata": {
    "id": "t-z7JwlihKWC"
   },
   "outputs": [],
   "source": [
    "# 在庫管理費用\n",
    "def T(x, a, b, r):\n",
    "  return U(x, a) + V(x, b, r)"
   ]
  },
  {
   "cell_type": "markdown",
   "metadata": {
    "id": "xZxcOIT_o77l"
   },
   "source": [
    "グラフの描画"
   ]
  },
  {
   "cell_type": "code",
   "execution_count": null,
   "metadata": {
    "id": "G7DWo_IopAHV"
   },
   "outputs": [],
   "source": [
    "# グラフのフォント関連の設定\n",
    "plt.rcParams[\"font.size\"] = 14"
   ]
  },
  {
   "cell_type": "code",
   "execution_count": null,
   "metadata": {
    "id": "5xSeKBimnLji"
   },
   "outputs": [],
   "source": [
    "# パラメータの設定\n",
    "a = 5\n",
    "b = 3\n",
    "r = 10"
   ]
  },
  {
   "cell_type": "code",
   "execution_count": 2,
   "metadata": {
    "id": "mIV2PJPahLpe"
   },
   "outputs": [
    {
     "ename": "NameError",
     "evalue": "name 'np' is not defined",
     "output_type": "error",
     "traceback": [
      "\u001b[1;31m---------------------------------------------------------------------------\u001b[0m",
      "\u001b[1;31mNameError\u001b[0m                                 Traceback (most recent call last)",
      "\u001b[1;32mc:\\Users\\theko\\C-Language\\Python\\lecture1(1).ipynb Cell 10'\u001b[0m in \u001b[0;36m<cell line: 1>\u001b[1;34m()\u001b[0m\n\u001b[1;32m----> <a href='vscode-notebook-cell:/c%3A/Users/theko/C-Language/Python/lecture1%281%29.ipynb#ch0000009?line=0'>1</a>\u001b[0m x \u001b[39m=\u001b[39m np\u001b[39m.\u001b[39marange(\u001b[39m1\u001b[39m, \u001b[39m10\u001b[39m, \u001b[39m0.01\u001b[39m)\n\u001b[0;32m      <a href='vscode-notebook-cell:/c%3A/Users/theko/C-Language/Python/lecture1%281%29.ipynb#ch0000009?line=2'>3</a>\u001b[0m plt\u001b[39m.\u001b[39mplot(x, T(x, a, b, r), label\u001b[39m=\u001b[39m\u001b[39m'\u001b[39m\u001b[39mT(x)\u001b[39m\u001b[39m'\u001b[39m, color\u001b[39m=\u001b[39m\u001b[39m'\u001b[39m\u001b[39mblack\u001b[39m\u001b[39m'\u001b[39m)\n\u001b[0;32m      <a href='vscode-notebook-cell:/c%3A/Users/theko/C-Language/Python/lecture1%281%29.ipynb#ch0000009?line=3'>4</a>\u001b[0m plt\u001b[39m.\u001b[39mplot(x, U(x, a), label\u001b[39m=\u001b[39m\u001b[39m'\u001b[39m\u001b[39mU(x)\u001b[39m\u001b[39m'\u001b[39m, color\u001b[39m=\u001b[39m\u001b[39m'\u001b[39m\u001b[39mdarkred\u001b[39m\u001b[39m'\u001b[39m, linestyle\u001b[39m=\u001b[39m\u001b[39m'\u001b[39m\u001b[39mdashed\u001b[39m\u001b[39m'\u001b[39m)\n",
      "\u001b[1;31mNameError\u001b[0m: name 'np' is not defined"
     ]
    }
   ],
   "source": [
    "x = np.arange(1, 10, 0.01)\n",
    "\n",
    "plt.plot(x, T(x, a, b, r), label='T(x)', color='black')\n",
    "plt.plot(x, U(x, a), label='U(x)', color='darkred', linestyle='dashed')\n",
    "plt.plot(x, V(x, b, r), label='V(x)', color='darkgreen', linestyle='dashed')\n",
    "plt.grid()\n",
    "\n",
    "plt.xlim(0, 10.5)\n",
    "plt.xlabel('x')\n",
    "plt.ylabel('cost')\n",
    "plt.legend(bbox_to_anchor=(1, 0), loc='lower right', borderaxespad=2)\n",
    "\n",
    "# 図を保存したい場合は、次の行のコメントを外すこと\n",
    "plt.savefig('figure.pdf', dpi=400)"
   ]
  },
  {
   "cell_type": "markdown",
   "metadata": {
    "id": "0Rzw5UmdpXlD"
   },
   "source": [
    "最適な経済発注量の計算"
   ]
  },
  {
   "cell_type": "code",
   "execution_count": null,
   "metadata": {
    "id": "SmsImzcXhR1l"
   },
   "outputs": [],
   "source": [
    "x_opt = np.sqrt(2 * b * r / a)\n",
    "print('x_* = %.3f' % x_opt)"
   ]
  },
  {
   "cell_type": "code",
   "execution_count": null,
   "metadata": {
    "id": "opDVVGXFjVU1"
   },
   "outputs": [],
   "source": [
    "# T(3)とT(4)のときのコストの比較\n",
    "x_3 = T(3, a, b, r)\n",
    "print('x_3 = %.3f' % x_3)\n",
    "\n",
    "x_4 = T(4, a, b, r)\n",
    "print('x_4 = %.3f' % x_4)"
   ]
  },
  {
   "cell_type": "code",
   "execution_count": null,
   "metadata": {},
   "outputs": [],
   "source": []
  }
 ],
 "metadata": {
  "colab": {
   "collapsed_sections": [],
   "name": "lecture1.ipynb",
   "provenance": []
  },
  "kernelspec": {
   "display_name": "Python 3 (ipykernel)",
   "language": "python",
   "name": "python3"
  },
  "language_info": {
   "codemirror_mode": {
    "name": "ipython",
    "version": 3
   },
   "file_extension": ".py",
   "mimetype": "text/x-python",
   "name": "python",
   "nbconvert_exporter": "python",
   "pygments_lexer": "ipython3",
   "version": "3.9.6"
  }
 },
 "nbformat": 4,
 "nbformat_minor": 4
}
