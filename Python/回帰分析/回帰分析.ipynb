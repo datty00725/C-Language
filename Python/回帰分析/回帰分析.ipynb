{
 "cells": [
  {
   "cell_type": "markdown",
   "id": "5e748f79",
   "metadata": {},
   "source": [
    "# アイスクリームの売上"
   ]
  },
  {
   "cell_type": "code",
   "execution_count": 71,
   "id": "998e83ac",
   "metadata": {},
   "outputs": [],
   "source": [
    "import pandas as pd\n",
    "import numpy as np"
   ]
  },
  {
   "cell_type": "markdown",
   "id": "1e7ddf66",
   "metadata": {},
   "source": [
    "データフレームの設定"
   ]
  },
  {
   "cell_type": "code",
   "execution_count": 72,
   "id": "96ea84b2",
   "metadata": {},
   "outputs": [],
   "source": [
    "df_past = pd.read_csv(\"sale.csv\")\n",
    "df_future = pd.read_csv(\"sale_future.csv\")"
   ]
  },
  {
   "cell_type": "markdown",
   "id": "50ef30ee",
   "metadata": {},
   "source": [
    "変数の指定"
   ]
  },
  {
   "cell_type": "code",
   "execution_count": 73,
   "id": "1586ba6e",
   "metadata": {},
   "outputs": [],
   "source": [
    "x_name=['temperatuer', 'price', 'rainy']\n",
    "x = df_past[x_name]\n",
    "y=df_past[\"sales\"]"
   ]
  },
  {
   "cell_type": "markdown",
   "id": "53d2b137",
   "metadata": {},
   "source": [
    "ライブラリの導入、回帰分析"
   ]
  },
  {
   "cell_type": "code",
   "execution_count": 74,
   "id": "cd4ff2fc",
   "metadata": {},
   "outputs": [
    {
     "data": {
      "text/html": [
       "<table class=\"simpletable\">\n",
       "<caption>OLS Regression Results</caption>\n",
       "<tr>\n",
       "  <th>Dep. Variable:</th>          <td>sales</td>      <th>  R-squared:         </th> <td>   0.923</td>\n",
       "</tr>\n",
       "<tr>\n",
       "  <th>Model:</th>                   <td>OLS</td>       <th>  Adj. R-squared:    </th> <td>   0.918</td>\n",
       "</tr>\n",
       "<tr>\n",
       "  <th>Method:</th>             <td>Least Squares</td>  <th>  F-statistic:       </th> <td>   182.8</td>\n",
       "</tr>\n",
       "<tr>\n",
       "  <th>Date:</th>             <td>Fri, 22 Apr 2022</td> <th>  Prob (F-statistic):</th> <td>1.45e-25</td>\n",
       "</tr>\n",
       "<tr>\n",
       "  <th>Time:</th>                 <td>19:44:31</td>     <th>  Log-Likelihood:    </th> <td> -371.07</td>\n",
       "</tr>\n",
       "<tr>\n",
       "  <th>No. Observations:</th>      <td>    50</td>      <th>  AIC:               </th> <td>   750.1</td>\n",
       "</tr>\n",
       "<tr>\n",
       "  <th>Df Residuals:</th>          <td>    46</td>      <th>  BIC:               </th> <td>   757.8</td>\n",
       "</tr>\n",
       "<tr>\n",
       "  <th>Df Model:</th>              <td>     3</td>      <th>                     </th>     <td> </td>   \n",
       "</tr>\n",
       "<tr>\n",
       "  <th>Covariance Type:</th>      <td>nonrobust</td>    <th>                     </th>     <td> </td>   \n",
       "</tr>\n",
       "</table>\n",
       "<table class=\"simpletable\">\n",
       "<tr>\n",
       "       <td></td>          <th>coef</th>     <th>std err</th>      <th>t</th>      <th>P>|t|</th>  <th>[0.025</th>    <th>0.975]</th>  \n",
       "</tr>\n",
       "<tr>\n",
       "  <th>const</th>       <td> -255.0701</td> <td>  243.019</td> <td>   -1.050</td> <td> 0.299</td> <td> -744.242</td> <td>  234.102</td>\n",
       "</tr>\n",
       "<tr>\n",
       "  <th>temperatuer</th> <td>  105.1010</td> <td>    4.882</td> <td>   21.528</td> <td> 0.000</td> <td>   95.274</td> <td>  114.928</td>\n",
       "</tr>\n",
       "<tr>\n",
       "  <th>price</th>       <td>   -0.0484</td> <td>    0.721</td> <td>   -0.067</td> <td> 0.947</td> <td>   -1.499</td> <td>    1.402</td>\n",
       "</tr>\n",
       "<tr>\n",
       "  <th>rainy</th>       <td> -318.5931</td> <td>  139.785</td> <td>   -2.279</td> <td> 0.027</td> <td> -599.966</td> <td>  -37.220</td>\n",
       "</tr>\n",
       "</table>\n",
       "<table class=\"simpletable\">\n",
       "<tr>\n",
       "  <th>Omnibus:</th>       <td>11.481</td> <th>  Durbin-Watson:     </th> <td>   1.645</td>\n",
       "</tr>\n",
       "<tr>\n",
       "  <th>Prob(Omnibus):</th> <td> 0.003</td> <th>  Jarque-Bera (JB):  </th> <td>  11.694</td>\n",
       "</tr>\n",
       "<tr>\n",
       "  <th>Skew:</th>          <td>-0.972</td> <th>  Prob(JB):          </th> <td> 0.00289</td>\n",
       "</tr>\n",
       "<tr>\n",
       "  <th>Kurtosis:</th>      <td> 4.354</td> <th>  Cond. No.          </th> <td>1.26e+03</td>\n",
       "</tr>\n",
       "</table><br/><br/>Notes:<br/>[1] Standard Errors assume that the covariance matrix of the errors is correctly specified.<br/>[2] The condition number is large, 1.26e+03. This might indicate that there are<br/>strong multicollinearity or other numerical problems."
      ],
      "text/plain": [
       "<class 'statsmodels.iolib.summary.Summary'>\n",
       "\"\"\"\n",
       "                            OLS Regression Results                            \n",
       "==============================================================================\n",
       "Dep. Variable:                  sales   R-squared:                       0.923\n",
       "Model:                            OLS   Adj. R-squared:                  0.918\n",
       "Method:                 Least Squares   F-statistic:                     182.8\n",
       "Date:                Fri, 22 Apr 2022   Prob (F-statistic):           1.45e-25\n",
       "Time:                        19:44:31   Log-Likelihood:                -371.07\n",
       "No. Observations:                  50   AIC:                             750.1\n",
       "Df Residuals:                      46   BIC:                             757.8\n",
       "Df Model:                           3                                         \n",
       "Covariance Type:            nonrobust                                         \n",
       "===============================================================================\n",
       "                  coef    std err          t      P>|t|      [0.025      0.975]\n",
       "-------------------------------------------------------------------------------\n",
       "const        -255.0701    243.019     -1.050      0.299    -744.242     234.102\n",
       "temperatuer   105.1010      4.882     21.528      0.000      95.274     114.928\n",
       "price          -0.0484      0.721     -0.067      0.947      -1.499       1.402\n",
       "rainy        -318.5931    139.785     -2.279      0.027    -599.966     -37.220\n",
       "==============================================================================\n",
       "Omnibus:                       11.481   Durbin-Watson:                   1.645\n",
       "Prob(Omnibus):                  0.003   Jarque-Bera (JB):               11.694\n",
       "Skew:                          -0.972   Prob(JB):                      0.00289\n",
       "Kurtosis:                       4.354   Cond. No.                     1.26e+03\n",
       "==============================================================================\n",
       "\n",
       "Notes:\n",
       "[1] Standard Errors assume that the covariance matrix of the errors is correctly specified.\n",
       "[2] The condition number is large, 1.26e+03. This might indicate that there are\n",
       "strong multicollinearity or other numerical problems.\n",
       "\"\"\""
      ]
     },
     "execution_count": 74,
     "metadata": {},
     "output_type": "execute_result"
    }
   ],
   "source": [
    "import statsmodels.api as sm\n",
    "\n",
    "model = sm.OLS(y,sm.add_constant(x))\n",
    "result= model.fit()\n",
    "result.summary()"
   ]
  },
  {
   "cell_type": "markdown",
   "id": "a1e5eb76",
   "metadata": {},
   "source": [
    "考察\n",
    "\n",
    "【P>|t|】を見る。0.05より大きい値は帰無仮説を受容するため、関係ない。\n",
    "したがって気温と天気にのみ売り上げは依存することがわかる。\n",
    "\n",
    "次に【Adj. R-squared】を見る。これは回帰分析のあてはまりの良さを表す。自由度調整済みR二乗値は0.918であり、1に近いため分析の精度は高いことも分かる。"
   ]
  },
  {
   "cell_type": "markdown",
   "id": "026f4160",
   "metadata": {},
   "source": [
    "ここで上記より値段は関係ないことがわかった。次に値段を外した分析を行う。"
   ]
  },
  {
   "cell_type": "code",
   "execution_count": 75,
   "id": "04b1a5eb",
   "metadata": {},
   "outputs": [],
   "source": [
    "x_name=['temperatuer', 'rainy']\n",
    "x = df_past[x_name]\n",
    "y=df_past[\"sales\"]"
   ]
  },
  {
   "cell_type": "code",
   "execution_count": 76,
   "id": "10407c23",
   "metadata": {},
   "outputs": [
    {
     "data": {
      "text/html": [
       "<table class=\"simpletable\">\n",
       "<caption>OLS Regression Results</caption>\n",
       "<tr>\n",
       "  <th>Dep. Variable:</th>          <td>sales</td>      <th>  R-squared:         </th> <td>   0.923</td>\n",
       "</tr>\n",
       "<tr>\n",
       "  <th>Model:</th>                   <td>OLS</td>       <th>  Adj. R-squared:    </th> <td>   0.919</td>\n",
       "</tr>\n",
       "<tr>\n",
       "  <th>Method:</th>             <td>Least Squares</td>  <th>  F-statistic:       </th> <td>   280.2</td>\n",
       "</tr>\n",
       "<tr>\n",
       "  <th>Date:</th>             <td>Fri, 22 Apr 2022</td> <th>  Prob (F-statistic):</th> <td>7.64e-27</td>\n",
       "</tr>\n",
       "<tr>\n",
       "  <th>Time:</th>                 <td>19:44:32</td>     <th>  Log-Likelihood:    </th> <td> -371.08</td>\n",
       "</tr>\n",
       "<tr>\n",
       "  <th>No. Observations:</th>      <td>    50</td>      <th>  AIC:               </th> <td>   748.2</td>\n",
       "</tr>\n",
       "<tr>\n",
       "  <th>Df Residuals:</th>          <td>    47</td>      <th>  BIC:               </th> <td>   753.9</td>\n",
       "</tr>\n",
       "<tr>\n",
       "  <th>Df Model:</th>              <td>     2</td>      <th>                     </th>     <td> </td>   \n",
       "</tr>\n",
       "<tr>\n",
       "  <th>Covariance Type:</th>      <td>nonrobust</td>    <th>                     </th>     <td> </td>   \n",
       "</tr>\n",
       "</table>\n",
       "<table class=\"simpletable\">\n",
       "<tr>\n",
       "       <td></td>          <th>coef</th>     <th>std err</th>      <th>t</th>      <th>P>|t|</th>  <th>[0.025</th>    <th>0.975]</th>  \n",
       "</tr>\n",
       "<tr>\n",
       "  <th>const</th>       <td> -268.2018</td> <td>  142.747</td> <td>   -1.879</td> <td> 0.066</td> <td> -555.371</td> <td>   18.967</td>\n",
       "</tr>\n",
       "<tr>\n",
       "  <th>temperatuer</th> <td>  105.0677</td> <td>    4.805</td> <td>   21.865</td> <td> 0.000</td> <td>   95.401</td> <td>  114.735</td>\n",
       "</tr>\n",
       "<tr>\n",
       "  <th>rainy</th>       <td> -319.7075</td> <td>  137.319</td> <td>   -2.328</td> <td> 0.024</td> <td> -595.958</td> <td>  -43.457</td>\n",
       "</tr>\n",
       "</table>\n",
       "<table class=\"simpletable\">\n",
       "<tr>\n",
       "  <th>Omnibus:</th>       <td>11.580</td> <th>  Durbin-Watson:     </th> <td>   1.651</td>\n",
       "</tr>\n",
       "<tr>\n",
       "  <th>Prob(Omnibus):</th> <td> 0.003</td> <th>  Jarque-Bera (JB):  </th> <td>  11.857</td>\n",
       "</tr>\n",
       "<tr>\n",
       "  <th>Skew:</th>          <td>-0.975</td> <th>  Prob(JB):          </th> <td> 0.00266</td>\n",
       "</tr>\n",
       "<tr>\n",
       "  <th>Kurtosis:</th>      <td> 4.376</td> <th>  Cond. No.          </th> <td>    78.3</td>\n",
       "</tr>\n",
       "</table><br/><br/>Notes:<br/>[1] Standard Errors assume that the covariance matrix of the errors is correctly specified."
      ],
      "text/plain": [
       "<class 'statsmodels.iolib.summary.Summary'>\n",
       "\"\"\"\n",
       "                            OLS Regression Results                            \n",
       "==============================================================================\n",
       "Dep. Variable:                  sales   R-squared:                       0.923\n",
       "Model:                            OLS   Adj. R-squared:                  0.919\n",
       "Method:                 Least Squares   F-statistic:                     280.2\n",
       "Date:                Fri, 22 Apr 2022   Prob (F-statistic):           7.64e-27\n",
       "Time:                        19:44:32   Log-Likelihood:                -371.08\n",
       "No. Observations:                  50   AIC:                             748.2\n",
       "Df Residuals:                      47   BIC:                             753.9\n",
       "Df Model:                           2                                         \n",
       "Covariance Type:            nonrobust                                         \n",
       "===============================================================================\n",
       "                  coef    std err          t      P>|t|      [0.025      0.975]\n",
       "-------------------------------------------------------------------------------\n",
       "const        -268.2018    142.747     -1.879      0.066    -555.371      18.967\n",
       "temperatuer   105.0677      4.805     21.865      0.000      95.401     114.735\n",
       "rainy        -319.7075    137.319     -2.328      0.024    -595.958     -43.457\n",
       "==============================================================================\n",
       "Omnibus:                       11.580   Durbin-Watson:                   1.651\n",
       "Prob(Omnibus):                  0.003   Jarque-Bera (JB):               11.857\n",
       "Skew:                          -0.975   Prob(JB):                      0.00266\n",
       "Kurtosis:                       4.376   Cond. No.                         78.3\n",
       "==============================================================================\n",
       "\n",
       "Notes:\n",
       "[1] Standard Errors assume that the covariance matrix of the errors is correctly specified.\n",
       "\"\"\""
      ]
     },
     "execution_count": 76,
     "metadata": {},
     "output_type": "execute_result"
    }
   ],
   "source": [
    "model = sm.OLS(y,sm.add_constant(x))\n",
    "result= model.fit()\n",
    "result.summary()"
   ]
  },
  {
   "cell_type": "markdown",
   "id": "d01c5be6",
   "metadata": {},
   "source": [
    "自由度調整済みR二乗値は0.918より0.001上がっており、P値も0.05以内で収まっている。"
   ]
  },
  {
   "cell_type": "markdown",
   "id": "d9a62889",
   "metadata": {},
   "source": [
    "次に未来の予想を行う。"
   ]
  },
  {
   "cell_type": "markdown",
   "id": "717d6687",
   "metadata": {},
   "source": [
    "未来予測"
   ]
  },
  {
   "cell_type": "code",
   "execution_count": 77,
   "id": "656f01e3",
   "metadata": {},
   "outputs": [
    {
     "data": {
      "text/plain": [
       "0     672.903485\n",
       "1    1623.017424\n",
       "2    3409.168950\n",
       "3     988.106695\n",
       "4    1513.445380\n",
       "dtype: float64"
      ]
     },
     "execution_count": 77,
     "metadata": {},
     "output_type": "execute_result"
    }
   ],
   "source": [
    "result.predict(sm.add_constant(df_future[x_name]))"
   ]
  },
  {
   "cell_type": "code",
   "execution_count": null,
   "id": "58dde4c9",
   "metadata": {},
   "outputs": [],
   "source": []
  },
  {
   "cell_type": "code",
   "execution_count": null,
   "id": "3088dfc3",
   "metadata": {},
   "outputs": [],
   "source": []
  },
  {
   "cell_type": "code",
   "execution_count": null,
   "id": "df5393dd",
   "metadata": {},
   "outputs": [],
   "source": []
  },
  {
   "cell_type": "code",
   "execution_count": null,
   "id": "bc3885f9",
   "metadata": {},
   "outputs": [],
   "source": []
  },
  {
   "cell_type": "code",
   "execution_count": null,
   "id": "df34c8fc",
   "metadata": {},
   "outputs": [],
   "source": []
  },
  {
   "cell_type": "code",
   "execution_count": null,
   "id": "99d9dfdf",
   "metadata": {},
   "outputs": [],
   "source": []
  },
  {
   "cell_type": "code",
   "execution_count": null,
   "id": "8d4d820d",
   "metadata": {},
   "outputs": [],
   "source": []
  },
  {
   "cell_type": "code",
   "execution_count": null,
   "id": "f20d01f6",
   "metadata": {},
   "outputs": [],
   "source": []
  },
  {
   "cell_type": "code",
   "execution_count": null,
   "id": "1f3eabe8",
   "metadata": {},
   "outputs": [],
   "source": []
  },
  {
   "cell_type": "code",
   "execution_count": null,
   "id": "964b1854",
   "metadata": {},
   "outputs": [],
   "source": []
  },
  {
   "cell_type": "code",
   "execution_count": null,
   "id": "d7d1c900",
   "metadata": {},
   "outputs": [],
   "source": []
  },
  {
   "cell_type": "code",
   "execution_count": null,
   "id": "1f594aee",
   "metadata": {},
   "outputs": [],
   "source": []
  },
  {
   "cell_type": "code",
   "execution_count": null,
   "id": "2e9ac414",
   "metadata": {},
   "outputs": [],
   "source": []
  }
 ],
 "metadata": {
  "kernelspec": {
   "display_name": "Python 3 (ipykernel)",
   "language": "python",
   "name": "python3"
  },
  "language_info": {
   "codemirror_mode": {
    "name": "ipython",
    "version": 3
   },
   "file_extension": ".py",
   "mimetype": "text/x-python",
   "name": "python",
   "nbconvert_exporter": "python",
   "pygments_lexer": "ipython3",
   "version": "3.9.7"
  }
 },
 "nbformat": 4,
 "nbformat_minor": 5
}
