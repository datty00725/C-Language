{
 "cells": [
  {
   "cell_type": "code",
   "execution_count": 76,
   "metadata": {},
   "outputs": [],
   "source": [
    "import numpy as np\n",
    "import pandas as pd\n",
    "import matplotlib.pyplot as plt\n",
    "import statsmodels.api as sm\n",
    "from sklearn import linear_model"
   ]
  },
  {
   "cell_type": "code",
   "execution_count": 77,
   "metadata": {},
   "outputs": [],
   "source": [
    "df = pd.read_csv(\"winequality-red.csv\", sep=\";\")\n",
    "# df.head()"
   ]
  },
  {
   "cell_type": "code",
   "execution_count": 78,
   "metadata": {},
   "outputs": [],
   "source": [
    "y = df[\"pH\"]\n"
   ]
  },
  {
   "cell_type": "code",
   "execution_count": 79,
   "metadata": {},
   "outputs": [],
   "source": [
    "x = df[\"fixed acidity\"]\n"
   ]
  },
  {
   "cell_type": "code",
   "execution_count": 80,
   "metadata": {},
   "outputs": [
    {
     "data": {
      "text/html": [
       "<table class=\"simpletable\">\n",
       "<caption>OLS Regression Results</caption>\n",
       "<tr>\n",
       "  <th>Dep. Variable:</th>           <td>pH</td>        <th>  R-squared:         </th> <td>   0.466</td> \n",
       "</tr>\n",
       "<tr>\n",
       "  <th>Model:</th>                   <td>OLS</td>       <th>  Adj. R-squared:    </th> <td>   0.466</td> \n",
       "</tr>\n",
       "<tr>\n",
       "  <th>Method:</th>             <td>Least Squares</td>  <th>  F-statistic:       </th> <td>   1396.</td> \n",
       "</tr>\n",
       "<tr>\n",
       "  <th>Date:</th>             <td>Sat, 23 Apr 2022</td> <th>  Prob (F-statistic):</th> <td>4.06e-220</td>\n",
       "</tr>\n",
       "<tr>\n",
       "  <th>Time:</th>                 <td>12:08:20</td>     <th>  Log-Likelihood:    </th> <td>  1221.3</td> \n",
       "</tr>\n",
       "<tr>\n",
       "  <th>No. Observations:</th>      <td>  1599</td>      <th>  AIC:               </th> <td>  -2439.</td> \n",
       "</tr>\n",
       "<tr>\n",
       "  <th>Df Residuals:</th>          <td>  1597</td>      <th>  BIC:               </th> <td>  -2428.</td> \n",
       "</tr>\n",
       "<tr>\n",
       "  <th>Df Model:</th>              <td>     1</td>      <th>                     </th>     <td> </td>    \n",
       "</tr>\n",
       "<tr>\n",
       "  <th>Covariance Type:</th>      <td>nonrobust</td>    <th>                     </th>     <td> </td>    \n",
       "</tr>\n",
       "</table>\n",
       "<table class=\"simpletable\">\n",
       "<tr>\n",
       "        <td></td>           <th>coef</th>     <th>std err</th>      <th>t</th>      <th>P>|t|</th>  <th>[0.025</th>    <th>0.975]</th>  \n",
       "</tr>\n",
       "<tr>\n",
       "  <th>const</th>         <td>    3.8150</td> <td>    0.014</td> <td>  276.927</td> <td> 0.000</td> <td>    3.788</td> <td>    3.842</td>\n",
       "</tr>\n",
       "<tr>\n",
       "  <th>fixed acidity</th> <td>   -0.0606</td> <td>    0.002</td> <td>  -37.366</td> <td> 0.000</td> <td>   -0.064</td> <td>   -0.057</td>\n",
       "</tr>\n",
       "</table>\n",
       "<table class=\"simpletable\">\n",
       "<tr>\n",
       "  <th>Omnibus:</th>       <td>58.659</td> <th>  Durbin-Watson:     </th> <td>   1.655</td>\n",
       "</tr>\n",
       "<tr>\n",
       "  <th>Prob(Omnibus):</th> <td> 0.000</td> <th>  Jarque-Bera (JB):  </th> <td> 143.337</td>\n",
       "</tr>\n",
       "<tr>\n",
       "  <th>Skew:</th>          <td>-0.155</td> <th>  Prob(JB):          </th> <td>7.49e-32</td>\n",
       "</tr>\n",
       "<tr>\n",
       "  <th>Kurtosis:</th>      <td> 4.434</td> <th>  Cond. No.          </th> <td>    42.1</td>\n",
       "</tr>\n",
       "</table><br/><br/>Notes:<br/>[1] Standard Errors assume that the covariance matrix of the errors is correctly specified."
      ],
      "text/plain": [
       "<class 'statsmodels.iolib.summary.Summary'>\n",
       "\"\"\"\n",
       "                            OLS Regression Results                            \n",
       "==============================================================================\n",
       "Dep. Variable:                     pH   R-squared:                       0.466\n",
       "Model:                            OLS   Adj. R-squared:                  0.466\n",
       "Method:                 Least Squares   F-statistic:                     1396.\n",
       "Date:                Sat, 23 Apr 2022   Prob (F-statistic):          4.06e-220\n",
       "Time:                        12:08:20   Log-Likelihood:                 1221.3\n",
       "No. Observations:                1599   AIC:                            -2439.\n",
       "Df Residuals:                    1597   BIC:                            -2428.\n",
       "Df Model:                           1                                         \n",
       "Covariance Type:            nonrobust                                         \n",
       "=================================================================================\n",
       "                    coef    std err          t      P>|t|      [0.025      0.975]\n",
       "---------------------------------------------------------------------------------\n",
       "const             3.8150      0.014    276.927      0.000       3.788       3.842\n",
       "fixed acidity    -0.0606      0.002    -37.366      0.000      -0.064      -0.057\n",
       "==============================================================================\n",
       "Omnibus:                       58.659   Durbin-Watson:                   1.655\n",
       "Prob(Omnibus):                  0.000   Jarque-Bera (JB):              143.337\n",
       "Skew:                          -0.155   Prob(JB):                     7.49e-32\n",
       "Kurtosis:                       4.434   Cond. No.                         42.1\n",
       "==============================================================================\n",
       "\n",
       "Notes:\n",
       "[1] Standard Errors assume that the covariance matrix of the errors is correctly specified.\n",
       "\"\"\""
      ]
     },
     "execution_count": 80,
     "metadata": {},
     "output_type": "execute_result"
    }
   ],
   "source": [
    "model = sm.OLS(y,sm.add_constant(x))\n",
    "result= model.fit()\n",
    "result.summary()"
   ]
  },
  {
   "cell_type": "code",
   "execution_count": 81,
   "metadata": {},
   "outputs": [],
   "source": [
    "y = df.loc[:, [\"pH\"]].values\n",
    "x = df.loc[:, [\"fixed acidity\"]].values"
   ]
  },
  {
   "cell_type": "code",
   "execution_count": 82,
   "metadata": {},
   "outputs": [
    {
     "data": {
      "text/plain": [
       "LinearRegression()"
      ]
     },
     "execution_count": 82,
     "metadata": {},
     "output_type": "execute_result"
    }
   ],
   "source": [
    "clf = linear_model.LinearRegression()\n",
    "clf.fit(x,y)"
   ]
  },
  {
   "cell_type": "code",
   "execution_count": 83,
   "metadata": {},
   "outputs": [
    {
     "name": "stdout",
     "output_type": "stream",
     "text": [
      "係数は [[-0.06056103]] で\,n",
      "切片は [3.81495901] で\n",
      "決定係数は 0.4664592142560906 です。\n"
     ]
    },
    {
     "data": {
      "image/png": "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",
      "text/plain": [
       "<Figure size 432x288 with 1 Axes>"
      ]
     },
     "metadata": {
      "needs_background": "light"
     },
     "output_type": "display_data"
    }
   ],
   "source": [
    "\n",
    "# 横軸をpHに縦軸を酢酸濃度にしたグラフをプロット（青色）\n",
    "plt.scatter(x,y)\n",
    "\n",
    "# 単回帰分析で計算した回帰直線をプロット(赤色)\n",
    "plt.plot(x, clf.predict(x),color = \"red\")\n",
    "\n",
    "# 分析結果\n",
    "print(\"係数は\", clf.coef_, \"で\")\n",
    "print(\"切片は\", clf.intercept_, \"で\")\n",
    "print(\"決定係数は\", clf.score(x, y), \"です。\")"
   ]
  },
  {
   "cell_type": "code",
   "execution_count": 84,
   "metadata": {},
   "outputs": [],
   "source": [
    "x = df.drop(\"quality\", axis = 1)\n",
    "y = df[\"quality\"]"
   ]
  },
  {
   "cell_type": "code",
   "execution_count": 85,
   "metadata": {},
   "outputs": [
    {
     "data": {
      "text/html": [
       "<table class=\"simpletable\">\n",
       "<caption>OLS Regression Results</caption>\n",
       "<tr>\n",
       "  <th>Dep. Variable:</th>         <td>quality</td>     <th>  R-squared:         </th> <td>   0.361</td> \n",
       "</tr>\n",
       "<tr>\n",
       "  <th>Model:</th>                   <td>OLS</td>       <th>  Adj. R-squared:    </th> <td>   0.356</td> \n",
       "</tr>\n",
       "<tr>\n",
       "  <th>Method:</th>             <td>Least Squares</td>  <th>  F-statistic:       </th> <td>   81.35</td> \n",
       "</tr>\n",
       "<tr>\n",
       "  <th>Date:</th>             <td>Sat, 23 Apr 2022</td> <th>  Prob (F-statistic):</th> <td>1.79e-145</td>\n",
       "</tr>\n",
       "<tr>\n",
       "  <th>Time:</th>                 <td>12:08:21</td>     <th>  Log-Likelihood:    </th> <td> -1569.1</td> \n",
       "</tr>\n",
       "<tr>\n",
       "  <th>No. Observations:</th>      <td>  1599</td>      <th>  AIC:               </th> <td>   3162.</td> \n",
       "</tr>\n",
       "<tr>\n",
       "  <th>Df Residuals:</th>          <td>  1587</td>      <th>  BIC:               </th> <td>   3227.</td> \n",
       "</tr>\n",
       "<tr>\n",
       "  <th>Df Model:</th>              <td>    11</td>      <th>                     </th>     <td> </td>    \n",
       "</tr>\n",
       "<tr>\n",
       "  <th>Covariance Type:</th>      <td>nonrobust</td>    <th>                     </th>     <td> </td>    \n",
       "</tr>\n",
       "</table>\n",
       "<table class=\"simpletable\">\n",
       "<tr>\n",
       "            <td></td>              <th>coef</th>     <th>std err</th>      <th>t</th>      <th>P>|t|</th>  <th>[0.025</th>    <th>0.975]</th>  \n",
       "</tr>\n",
       "<tr>\n",
       "  <th>const</th>                <td>   21.9652</td> <td>   21.195</td> <td>    1.036</td> <td> 0.300</td> <td>  -19.607</td> <td>   63.538</td>\n",
       "</tr>\n",
       "<tr>\n",
       "  <th>fixed acidity</th>        <td>    0.0250</td> <td>    0.026</td> <td>    0.963</td> <td> 0.336</td> <td>   -0.026</td> <td>    0.076</td>\n",
       "</tr>\n",
       "<tr>\n",
       "  <th>volatile acidity</th>     <td>   -1.0836</td> <td>    0.121</td> <td>   -8.948</td> <td> 0.000</td> <td>   -1.321</td> <td>   -0.846</td>\n",
       "</tr>\n",
       "<tr>\n",
       "  <th>citric acid</th>          <td>   -0.1826</td> <td>    0.147</td> <td>   -1.240</td> <td> 0.215</td> <td>   -0.471</td> <td>    0.106</td>\n",
       "</tr>\n",
       "<tr>\n",
       "  <th>residual sugar</th>       <td>    0.0163</td> <td>    0.015</td> <td>    1.089</td> <td> 0.276</td> <td>   -0.013</td> <td>    0.046</td>\n",
       "</tr>\n",
       "<tr>\n",
       "  <th>chlorides</th>            <td>   -1.8742</td> <td>    0.419</td> <td>   -4.470</td> <td> 0.000</td> <td>   -2.697</td> <td>   -1.052</td>\n",
       "</tr>\n",
       "<tr>\n",
       "  <th>free sulfur dioxide</th>  <td>    0.0044</td> <td>    0.002</td> <td>    2.009</td> <td> 0.045</td> <td>    0.000</td> <td>    0.009</td>\n",
       "</tr>\n",
       "<tr>\n",
       "  <th>total sulfur dioxide</th> <td>   -0.0033</td> <td>    0.001</td> <td>   -4.480</td> <td> 0.000</td> <td>   -0.005</td> <td>   -0.002</td>\n",
       "</tr>\n",
       "<tr>\n",
       "  <th>density</th>              <td>  -17.8812</td> <td>   21.633</td> <td>   -0.827</td> <td> 0.409</td> <td>  -60.314</td> <td>   24.551</td>\n",
       "</tr>\n",
       "<tr>\n",
       "  <th>pH</th>                   <td>   -0.4137</td> <td>    0.192</td> <td>   -2.159</td> <td> 0.031</td> <td>   -0.789</td> <td>   -0.038</td>\n",
       "</tr>\n",
       "<tr>\n",
       "  <th>sulphates</th>            <td>    0.9163</td> <td>    0.114</td> <td>    8.014</td> <td> 0.000</td> <td>    0.692</td> <td>    1.141</td>\n",
       "</tr>\n",
       "<tr>\n",
       "  <th>alcohol</th>              <td>    0.2762</td> <td>    0.026</td> <td>   10.429</td> <td> 0.000</td> <td>    0.224</td> <td>    0.328</td>\n",
       "</tr>\n",
       "</table>\n",
       "<table class=\"simpletable\">\n",
       "<tr>\n",
       "  <th>Omnibus:</th>       <td>27.376</td> <th>  Durbin-Watson:     </th> <td>   1.757</td>\n",
       "</tr>\n",
       "<tr>\n",
       "  <th>Prob(Omnibus):</th> <td> 0.000</td> <th>  Jarque-Bera (JB):  </th> <td>  40.965</td>\n",
       "</tr>\n",
       "<tr>\n",
       "  <th>Skew:</th>          <td>-0.168</td> <th>  Prob(JB):          </th> <td>1.27e-09</td>\n",
       "</tr>\n",
       "<tr>\n",
       "  <th>Kurtosis:</th>      <td> 3.708</td> <th>  Cond. No.          </th> <td>1.13e+05</td>\n",
       "</tr>\n",
       "</table><br/><br/>Notes:<br/>[1] Standard Errors assume that the covariance matrix of the errors is correctly specified.<br/>[2] The condition number is large, 1.13e+05. This might indicate that there are<br/>strong multicollinearity or other numerical problems."
      ],
      "text/plain": [
       "<class 'statsmodels.iolib.summary.Summary'>\n",
       "\"\"\"\n",
       "                            OLS Regression Results                            \n",
       "==============================================================================\n",
       "Dep. Variable:                quality   R-squared:                       0.361\n",
       "Model:                            OLS   Adj. R-squared:                  0.356\n",
       "Method:                 Least Squares   F-statistic:                     81.35\n",
       "Date:                Sat, 23 Apr 2022   Prob (F-statistic):          1.79e-145\n",
       "Time:                        12:08:21   Log-Likelihood:                -1569.1\n",
       "No. Observations:                1599   AIC:                             3162.\n",
       "Df Residuals:                    1587   BIC:                             3227.\n",
       "Df Model:                          11                                         \n",
       "Covariance Type:            nonrobust                                         \n",
       "========================================================================================\n",
       "                           coef    std err          t      P>|t|      [0.025      0.975]\n",
       "----------------------------------------------------------------------------------------\n",
       "const                   21.9652     21.195      1.036      0.300     -19.607      63.538\n",
       "fixed acidity            0.0250      0.026      0.963      0.336      -0.026       0.076\n",
       "volatile acidity        -1.0836      0.121     -8.948      0.000      -1.321      -0.846\n",
       "citric acid             -0.1826      0.147     -1.240      0.215      -0.471       0.106\n",
       "residual sugar           0.0163      0.015      1.089      0.276      -0.013       0.046\n",
       "chlorides               -1.8742      0.419     -4.470      0.000      -2.697      -1.052\n",
       "free sulfur dioxide      0.0044      0.002      2.009      0.045       0.000       0.009\n",
       "total sulfur dioxide    -0.0033      0.001     -4.480      0.000      -0.005      -0.002\n",
       "density                -17.8812     21.633     -0.827      0.409     -60.314      24.551\n",
       "pH                      -0.4137      0.192     -2.159      0.031      -0.789      -0.038\n",
       "sulphates                0.9163      0.114      8.014      0.000       0.692       1.141\n",
       "alcohol                  0.2762      0.026     10.429      0.000       0.224       0.328\n",
       "==============================================================================\n",
       "Omnibus:                       27.376   Durbin-Watson:                   1.757\n",
       "Prob(Omnibus):                  0.000   Jarque-Bera (JB):               40.965\n",
       "Skew:                          -0.168   Prob(JB):                     1.27e-09\n",
       "Kurtosis:                       3.708   Cond. No.                     1.13e+05\n",
       "==============================================================================\n",
       "\n",
       "Notes:\n",
       "[1] Standard Errors assume that the covariance matrix of the errors is correctly specified.\n",
       "[2] The condition number is large, 1.13e+05. This might indicate that there are\n",
       "strong multicollinearity or other numerical problems.\n",
       "\"\"\""
      ]
     },
     "execution_count": 85,
     "metadata": {},
     "output_type": "execute_result"
    }
   ],
   "source": [
    "model = sm.OLS(y,sm.add_constant(x))\n",
    "result= model.fit()\n",
    "result.summary()"
   ]
  },
  {
   "cell_type": "code",
   "execution_count": null,
   "metadata": {},
   "outputs": [],
   "source": []
  }
 ],
 "metadata": {
  "interpreter": {
   "hash": "03fd62d287b3b50ddc1a536b1cce91c85e1e693d55025b5e5a8310e9c4c98e1a"
  },
  "kernelspec": {
   "display_name": "Python 3.9.6 ('.venv': venv)",
   "language": "python",
   "name": "python3"
  },
  "language_info": {
   "codemirror_mode": {
    "name": "ipython",
    "version": 3
   },
   "file_extension": ".py",
   "mimetype": "text/x-python",
   "name": "python",
   "nbconvert_exporter": "python",
   "pygments_lexer": "ipython3",
   "version": "3.9.6"
  },
  "orig_nbformat": 4
 },
 "nbformat": 4,
 "nbformat_minor": 2
}
